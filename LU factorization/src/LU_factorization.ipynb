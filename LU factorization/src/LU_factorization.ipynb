{
 "cells": [
  {
   "cell_type": "code",
   "execution_count": 24,
   "id": "752f7371",
   "metadata": {},
   "outputs": [],
   "source": [
    "import numpy as np"
   ]
  },
  {
   "cell_type": "code",
   "execution_count": 25,
   "id": "31bdc2ea",
   "metadata": {},
   "outputs": [],
   "source": [
    "# define function to calculate LU factor of matrix A\n",
    "\n",
    "def calculate_LU(A):\n",
    "    length = np.shape(A)[0]\n",
    "    L = np.eye(length)\n",
    "    \n",
    "    pivot_row ,pivot_col = 0, 0\n",
    "    L_col = 0\n",
    "    while pivot_col < length and pivot_row < length:\n",
    "        while A[pivot_row, pivot_col] == 0:\n",
    "            pivot_col += 1\n",
    "            if pivot_col > length:\n",
    "                return\n",
    "        for i in range(pivot_row + 1, length):\n",
    "            L[i, pivot_col] = A[i, pivot_col] / A[pivot_row, pivot_col]\n",
    "            A[i] = A[i] - L[i, pivot_col]*A[pivot_row]\n",
    "        L_col += 1\n",
    "        pivot_col += 1\n",
    "        pivot_row += 1\n",
    "    return L, A       # A is equal to U in this step"
   ]
  },
  {
   "cell_type": "markdown",
   "id": "1a77c238",
   "metadata": {},
   "source": [
    "# forward Substitution\n",
    "<span>\n",
    "    <img src=\"./images/Forward_Substitution_1.png\">\n",
    "    <img src=\"./images/Forward_Substitution_2.png\">\n",
    "</span>"
   ]
  },
  {
   "cell_type": "code",
   "execution_count": 26,
   "id": "730dd9b8",
   "metadata": {},
   "outputs": [],
   "source": [
    "# solve Ly = b by forward substitute method\n",
    "\n",
    "def solve_forward_substitute(L, b):\n",
    "    y = np.zeros((np.size(b), 1))\n",
    "    for i in range(np.shape(L)[0]):\n",
    "        y[i] += b[i]\n",
    "        for j in range(i):\n",
    "            y[i] -= L[i, j] * y[j]\n",
    "        y[i] /= L[i, i]\n",
    "    return y"
   ]
  },
  {
   "cell_type": "markdown",
   "id": "a821200b",
   "metadata": {},
   "source": [
    "# Backward Substitution\n",
    "<img src=\"./images/Backward_Substitution_1.png\">\n",
    "<img src=\"./images/Backward_Substitution_2.png\">"
   ]
  },
  {
   "cell_type": "code",
   "execution_count": 27,
   "id": "83a3164d",
   "metadata": {},
   "outputs": [],
   "source": [
    "# solve Ux = y by backward substitute method\n",
    "\n",
    "def solve_backward_substitute(U, y):\n",
    "    x = np.zeros((np.size(y), 1))\n",
    "    for i in range(np.shape(U)[0] - 1 , -1, -1):\n",
    "        x[i] += y[i]\n",
    "        for j in range(np.shape(U)[0] - 1, i, -1):\n",
    "            x[i] -= U[i, j] * x[j]\n",
    "        x[i] /= U[i, i]\n",
    "    return x"
   ]
  },
  {
   "cell_type": "code",
   "execution_count": 34,
   "id": "3216354e",
   "metadata": {},
   "outputs": [],
   "source": [
    "def solve_martix_equation(A, b):\n",
    "    A_array = np.array(A)\n",
    "    L, U = calculate_LU(A_array)\n",
    "    y = solve_forward_substitute(L, b)\n",
    "    x = solve_backward_substitute(U, y)\n",
    "    return x\n",
    "    "
   ]
  },
  {
   "cell_type": "code",
   "execution_count": 29,
   "id": "86d51d95",
   "metadata": {
    "scrolled": true
   },
   "outputs": [
    {
     "name": "stdout",
     "output_type": "stream",
     "text": [
      "L =\n",
      " [[1. 0. 0.]\n",
      " [2. 1. 0.]\n",
      " [3. 2. 1.]] \n",
      "U =\n",
      " [[1. 1. 1.]\n",
      " [0. 2. 2.]\n",
      " [0. 0. 3.]]\n",
      "L =\n",
      " [[1.  0.  0. ]\n",
      " [0.8 1.  0. ]\n",
      " [0.4 8.  1. ]] \n",
      "U =\n",
      " [[5.  6.  2. ]\n",
      " [0.  0.2 0.4]\n",
      " [0.  0.  4. ]]\n"
     ]
    }
   ],
   "source": [
    "res1 = calculate_LU(np.array([\n",
    "    [1., 1., 1.],\n",
    "    [2., 4., 4.], \n",
    "    [3., 7., 10.]\n",
    "]))\n",
    "res2 = calculate_LU(np.array([\n",
    "    [5., 6., 2.],\n",
    "    [4., 5., 2.],\n",
    "    [2., 4., 8.]\n",
    "]))\n",
    "\n",
    "print('L =\\n', res1[0], '\\nU =\\n', res1[1])\n",
    "print('L =\\n', res2[0], '\\nU =\\n', res2[1])"
   ]
  },
  {
   "cell_type": "code",
   "execution_count": 38,
   "id": "768d3188",
   "metadata": {},
   "outputs": [
    {
     "name": "stdout",
     "output_type": "stream",
     "text": [
      "3 5\n",
      "5 6 2\n",
      "[[5.0, 6.0, 2.0]]\n",
      "4 5 2\n",
      "[[5.0, 6.0, 2.0], [4.0, 5.0, 2.0]]\n",
      "2 4 8\n",
      "[[5.0, 6.0, 2.0], [4.0, 5.0, 2.0], [2.0, 4.0, 8.0]]\n",
      "18 7 2\n",
      "4 5 8\n",
      "15 7 6\n",
      "11 9 5\n",
      "13 12 12\n",
      "[[ 75.  -64.   13.5]]\n",
      "[[-14.  13.  -2.]]\n",
      "[[ 53. -45.  10.]]\n",
      "[[ 0.5   1.5  -0.25]]\n",
      "[[-10.   11.   -1.5]]\n"
     ]
    }
   ],
   "source": [
    "n, m = list(map(int, input().split()))\n",
    "A = list()\n",
    "b_list = list()\n",
    "x_list = list()\n",
    "for _ in range(n):\n",
    "    A.append(list(map(float, input().split())))\n",
    "for i in range(m):\n",
    "    b_list.append(list(map(float, input().split())))\n",
    "    x_list.append(solve_martix_equation(np.array(A), b_list[i]).reshape(1, n))\n",
    "for x in x_list:\n",
    "    print(*list(map(lambda a: round(a, 2), x.tolist()[0])), sep=' ')"
   ]
  },
  {
   "cell_type": "code",
   "execution_count": null,
   "id": "a0433eb1",
   "metadata": {},
   "outputs": [],
   "source": []
  }
 ],
 "metadata": {
  "kernelspec": {
   "display_name": "Python 3",
   "language": "python",
   "name": "python3"
  },
  "language_info": {
   "codemirror_mode": {
    "name": "ipython",
    "version": 3
   },
   "file_extension": ".py",
   "mimetype": "text/x-python",
   "name": "python",
   "nbconvert_exporter": "python",
   "pygments_lexer": "ipython3",
   "version": "3.8.5"
  }
 },
 "nbformat": 4,
 "nbformat_minor": 5
}
